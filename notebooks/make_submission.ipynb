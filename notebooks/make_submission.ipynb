{
 "cells": [
  {
   "cell_type": "code",
   "execution_count": 30,
   "metadata": {},
   "outputs": [],
   "source": [
    "import sys\n",
    "sys.path.append('..')\n",
    "\n",
    "from services.adapter.ml_utils import RabbitWrapper"
   ]
  },
  {
   "cell_type": "code",
   "execution_count": 31,
   "metadata": {},
   "outputs": [
    {
     "name": "stdout",
     "output_type": "stream",
     "text": [
      "\u001b[32m2024-09-29 05:44:16.855\u001b[0m | \u001b[1mINFO    \u001b[0m | \u001b[36mservices.adapter.ml_utils.brokers.rabbit.wrapper\u001b[0m:\u001b[36m_load_config\u001b[0m:\u001b[36m108\u001b[0m - \u001b[1mConfig has been loaded\u001b[0m\n",
      "\u001b[32m2024-09-29 05:44:16.857\u001b[0m | \u001b[1mINFO    \u001b[0m | \u001b[36mservices.adapter.ml_utils.brokers.rabbit.wrapper\u001b[0m:\u001b[36m_connect\u001b[0m:\u001b[36m131\u001b[0m - \u001b[1mTrying to connect at 1 time\u001b[0m\n",
      "\u001b[32m2024-09-29 05:44:16.863\u001b[0m | \u001b[1mINFO    \u001b[0m | \u001b[36mservices.adapter.ml_utils.brokers.rabbit.wrapper\u001b[0m:\u001b[36m_connect\u001b[0m:\u001b[36m141\u001b[0m - \u001b[1mConnection successful\u001b[0m\n",
      "\u001b[32m2024-09-29 05:44:16.865\u001b[0m | \u001b[1mINFO    \u001b[0m | \u001b[36mservices.adapter.ml_utils.brokers.rabbit.wrapper\u001b[0m:\u001b[36m__init__\u001b[0m:\u001b[36m84\u001b[0m - \u001b[1mInput topic piracy_detection_output has been connected\u001b[0m\n",
      "\u001b[32m2024-09-29 05:44:16.866\u001b[0m | \u001b[1mINFO    \u001b[0m | \u001b[36mservices.adapter.ml_utils.brokers.rabbit.wrapper\u001b[0m:\u001b[36m__init__\u001b[0m:\u001b[36m88\u001b[0m - \u001b[1mOutput topic piracy_detection_input has been connected\u001b[0m\n"
     ]
    }
   ],
   "source": [
    "redash = RabbitWrapper('../configs/resources.ini', 'adapter_local', swap_topics=True)"
   ]
  },
  {
   "cell_type": "code",
   "execution_count": 32,
   "metadata": {},
   "outputs": [
    {
     "name": "stdout",
     "output_type": "stream",
     "text": [
      "\u001b[32m2024-09-29 05:44:17.813\u001b[0m | \u001b[1mINFO    \u001b[0m | \u001b[36mservices.adapter.ml_utils.brokers.rabbit.wrapper\u001b[0m:\u001b[36mlisten\u001b[0m:\u001b[36m203\u001b[0m - \u001b[1mStart consuming on piracy_detection_output\u001b[0m\n"
     ]
    }
   ],
   "source": [
    "msgs = redash.listen()"
   ]
  },
  {
   "cell_type": "code",
   "execution_count": 33,
   "metadata": {},
   "outputs": [
    {
     "data": {
      "text/plain": [
       "1000"
      ]
     },
     "execution_count": 33,
     "metadata": {},
     "output_type": "execute_result"
    }
   ],
   "source": [
    "len(msgs)"
   ]
  },
  {
   "cell_type": "code",
   "execution_count": 34,
   "metadata": {},
   "outputs": [],
   "source": [
    "d = {i['inputs']['video_link'].split('.')[0].split('/')[-1]: i['result']['duplicate_for'].split('.')[0].split('/')[-1] for i in msgs if i['result']['duplicate_for']}"
   ]
  },
  {
   "cell_type": "code",
   "execution_count": 22,
   "metadata": {},
   "outputs": [
    {
     "data": {
      "text/plain": [
       "244"
      ]
     },
     "execution_count": 22,
     "metadata": {},
     "output_type": "execute_result"
    }
   ],
   "source": [
    "len(d)"
   ]
  },
  {
   "cell_type": "code",
   "execution_count": 35,
   "metadata": {},
   "outputs": [
    {
     "data": {
      "text/html": [
       "<div>\n",
       "<style scoped>\n",
       "    .dataframe tbody tr th:only-of-type {\n",
       "        vertical-align: middle;\n",
       "    }\n",
       "\n",
       "    .dataframe tbody tr th {\n",
       "        vertical-align: top;\n",
       "    }\n",
       "\n",
       "    .dataframe thead th {\n",
       "        text-align: right;\n",
       "    }\n",
       "</style>\n",
       "<table border=\"1\" class=\"dataframe\">\n",
       "  <thead>\n",
       "    <tr style=\"text-align: right;\">\n",
       "      <th></th>\n",
       "      <th>created</th>\n",
       "      <th>uuid</th>\n",
       "      <th>link</th>\n",
       "    </tr>\n",
       "  </thead>\n",
       "  <tbody>\n",
       "    <tr>\n",
       "      <th>0</th>\n",
       "      <td>2024-06-01 01:37:57</td>\n",
       "      <td>49577a11-51b9-490a-b1f0-df17335219de</td>\n",
       "      <td>https://s3.ritm.media/yappy-db-duplicates/4957...</td>\n",
       "    </tr>\n",
       "    <tr>\n",
       "      <th>1</th>\n",
       "      <td>2024-06-01 04:42:10</td>\n",
       "      <td>4e1f7fad-5008-4216-9849-550a00f1e35f</td>\n",
       "      <td>https://s3.ritm.media/yappy-db-duplicates/4e1f...</td>\n",
       "    </tr>\n",
       "    <tr>\n",
       "      <th>2</th>\n",
       "      <td>2024-06-01 08:44:48</td>\n",
       "      <td>337fdbe6-2bc7-4bc7-931e-d94ada927ede</td>\n",
       "      <td>https://s3.ritm.media/yappy-db-duplicates/337f...</td>\n",
       "    </tr>\n",
       "    <tr>\n",
       "      <th>3</th>\n",
       "      <td>2024-06-01 10:11:48</td>\n",
       "      <td>35138a88-0249-405e-91b4-8a36b1e2e730</td>\n",
       "      <td>https://s3.ritm.media/yappy-db-duplicates/3513...</td>\n",
       "    </tr>\n",
       "    <tr>\n",
       "      <th>4</th>\n",
       "      <td>2024-06-01 12:23:29</td>\n",
       "      <td>322f4312-3d46-401b-8cd9-80a0d06347ed</td>\n",
       "      <td>https://s3.ritm.media/yappy-db-duplicates/322f...</td>\n",
       "    </tr>\n",
       "    <tr>\n",
       "      <th>...</th>\n",
       "      <td>...</td>\n",
       "      <td>...</td>\n",
       "      <td>...</td>\n",
       "    </tr>\n",
       "    <tr>\n",
       "      <th>995</th>\n",
       "      <td>2024-09-07 17:10:54</td>\n",
       "      <td>933149f9-e660-4377-95c8-f8dd329db24e</td>\n",
       "      <td>https://s3.ritm.media/yappy-db-duplicates/9331...</td>\n",
       "    </tr>\n",
       "    <tr>\n",
       "      <th>996</th>\n",
       "      <td>2024-09-08 05:18:24</td>\n",
       "      <td>9f707190-3b32-48bf-a5f4-ceec6eedb847</td>\n",
       "      <td>https://s3.ritm.media/yappy-db-duplicates/9f70...</td>\n",
       "    </tr>\n",
       "    <tr>\n",
       "      <th>997</th>\n",
       "      <td>2024-09-10 04:45:04</td>\n",
       "      <td>e0fe3e65-8aa6-4f38-bb83-85948d5539bc</td>\n",
       "      <td>https://s3.ritm.media/yappy-db-duplicates/e0fe...</td>\n",
       "    </tr>\n",
       "    <tr>\n",
       "      <th>998</th>\n",
       "      <td>2024-09-11 04:42:01</td>\n",
       "      <td>ef7e175e-2391-45a0-b69f-33837668bb79</td>\n",
       "      <td>https://s3.ritm.media/yappy-db-duplicates/ef7e...</td>\n",
       "    </tr>\n",
       "    <tr>\n",
       "      <th>999</th>\n",
       "      <td>2024-09-12 22:21:33</td>\n",
       "      <td>7ed53812-357f-4ad4-bccc-39bb63e27ccb</td>\n",
       "      <td>https://s3.ritm.media/yappy-db-duplicates/7ed5...</td>\n",
       "    </tr>\n",
       "  </tbody>\n",
       "</table>\n",
       "<p>1000 rows × 3 columns</p>\n",
       "</div>"
      ],
      "text/plain": [
       "                 created  ...                                               link\n",
       "0    2024-06-01 01:37:57  ...  https://s3.ritm.media/yappy-db-duplicates/4957...\n",
       "1    2024-06-01 04:42:10  ...  https://s3.ritm.media/yappy-db-duplicates/4e1f...\n",
       "2    2024-06-01 08:44:48  ...  https://s3.ritm.media/yappy-db-duplicates/337f...\n",
       "3    2024-06-01 10:11:48  ...  https://s3.ritm.media/yappy-db-duplicates/3513...\n",
       "4    2024-06-01 12:23:29  ...  https://s3.ritm.media/yappy-db-duplicates/322f...\n",
       "..                   ...  ...                                                ...\n",
       "995  2024-09-07 17:10:54  ...  https://s3.ritm.media/yappy-db-duplicates/9331...\n",
       "996  2024-09-08 05:18:24  ...  https://s3.ritm.media/yappy-db-duplicates/9f70...\n",
       "997  2024-09-10 04:45:04  ...  https://s3.ritm.media/yappy-db-duplicates/e0fe...\n",
       "998  2024-09-11 04:42:01  ...  https://s3.ritm.media/yappy-db-duplicates/ef7e...\n",
       "999  2024-09-12 22:21:33  ...  https://s3.ritm.media/yappy-db-duplicates/7ed5...\n",
       "\n",
       "[1000 rows x 3 columns]"
      ]
     },
     "execution_count": 35,
     "metadata": {},
     "output_type": "execute_result"
    }
   ],
   "source": [
    "import pandas as pd\n",
    "data = pd.read_csv('test.csv')\n",
    "# data = data[:2000]\n",
    "data"
   ]
  },
  {
   "cell_type": "code",
   "execution_count": 45,
   "metadata": {},
   "outputs": [],
   "source": [
    "import numpy as np\n",
    "rows = []\n",
    "\n",
    "tp = 0\n",
    "fp = 0\n",
    "fn = 0\n",
    "tn = 0\n",
    "\n",
    "is_duplicate = []\n",
    "duplicates_for = []\n",
    "\n",
    "for i, row in data.iterrows():\n",
    "    is_dupicate = False\n",
    "    duplicate_for = None\n",
    "    \n",
    "    if row['uuid'] in set(d.keys()):\n",
    "        duplicate_for = d[row['uuid']]\n",
    "        is_dupicate = True\n",
    "    \n",
    "    is_duplicate.append(is_dupicate)\n",
    "    duplicates_for.append(duplicate_for)\n",
    "    \n",
    "            "
   ]
  },
  {
   "cell_type": "code",
   "execution_count": 46,
   "metadata": {},
   "outputs": [],
   "source": [
    "data['is_duplicate'] = is_duplicate\n",
    "data['duplicate_for'] = duplicates_for"
   ]
  },
  {
   "cell_type": "code",
   "execution_count": 47,
   "metadata": {},
   "outputs": [
    {
     "data": {
      "text/html": [
       "<div>\n",
       "<style scoped>\n",
       "    .dataframe tbody tr th:only-of-type {\n",
       "        vertical-align: middle;\n",
       "    }\n",
       "\n",
       "    .dataframe tbody tr th {\n",
       "        vertical-align: top;\n",
       "    }\n",
       "\n",
       "    .dataframe thead th {\n",
       "        text-align: right;\n",
       "    }\n",
       "</style>\n",
       "<table border=\"1\" class=\"dataframe\">\n",
       "  <thead>\n",
       "    <tr style=\"text-align: right;\">\n",
       "      <th></th>\n",
       "      <th>created</th>\n",
       "      <th>uuid</th>\n",
       "      <th>link</th>\n",
       "      <th>is_duplicate</th>\n",
       "      <th>duplicate_for</th>\n",
       "    </tr>\n",
       "  </thead>\n",
       "  <tbody>\n",
       "    <tr>\n",
       "      <th>0</th>\n",
       "      <td>2024-06-01 01:37:57</td>\n",
       "      <td>49577a11-51b9-490a-b1f0-df17335219de</td>\n",
       "      <td>https://s3.ritm.media/yappy-db-duplicates/4957...</td>\n",
       "      <td>False</td>\n",
       "      <td>None</td>\n",
       "    </tr>\n",
       "    <tr>\n",
       "      <th>1</th>\n",
       "      <td>2024-06-01 04:42:10</td>\n",
       "      <td>4e1f7fad-5008-4216-9849-550a00f1e35f</td>\n",
       "      <td>https://s3.ritm.media/yappy-db-duplicates/4e1f...</td>\n",
       "      <td>False</td>\n",
       "      <td>None</td>\n",
       "    </tr>\n",
       "    <tr>\n",
       "      <th>2</th>\n",
       "      <td>2024-06-01 08:44:48</td>\n",
       "      <td>337fdbe6-2bc7-4bc7-931e-d94ada927ede</td>\n",
       "      <td>https://s3.ritm.media/yappy-db-duplicates/337f...</td>\n",
       "      <td>False</td>\n",
       "      <td>None</td>\n",
       "    </tr>\n",
       "    <tr>\n",
       "      <th>3</th>\n",
       "      <td>2024-06-01 10:11:48</td>\n",
       "      <td>35138a88-0249-405e-91b4-8a36b1e2e730</td>\n",
       "      <td>https://s3.ritm.media/yappy-db-duplicates/3513...</td>\n",
       "      <td>False</td>\n",
       "      <td>None</td>\n",
       "    </tr>\n",
       "    <tr>\n",
       "      <th>4</th>\n",
       "      <td>2024-06-01 12:23:29</td>\n",
       "      <td>322f4312-3d46-401b-8cd9-80a0d06347ed</td>\n",
       "      <td>https://s3.ritm.media/yappy-db-duplicates/322f...</td>\n",
       "      <td>False</td>\n",
       "      <td>None</td>\n",
       "    </tr>\n",
       "    <tr>\n",
       "      <th>...</th>\n",
       "      <td>...</td>\n",
       "      <td>...</td>\n",
       "      <td>...</td>\n",
       "      <td>...</td>\n",
       "      <td>...</td>\n",
       "    </tr>\n",
       "    <tr>\n",
       "      <th>995</th>\n",
       "      <td>2024-09-07 17:10:54</td>\n",
       "      <td>933149f9-e660-4377-95c8-f8dd329db24e</td>\n",
       "      <td>https://s3.ritm.media/yappy-db-duplicates/9331...</td>\n",
       "      <td>True</td>\n",
       "      <td>06e0d485-d4e1-4ba7-8eb2-e2f1fcfca416</td>\n",
       "    </tr>\n",
       "    <tr>\n",
       "      <th>996</th>\n",
       "      <td>2024-09-08 05:18:24</td>\n",
       "      <td>9f707190-3b32-48bf-a5f4-ceec6eedb847</td>\n",
       "      <td>https://s3.ritm.media/yappy-db-duplicates/9f70...</td>\n",
       "      <td>True</td>\n",
       "      <td>56cfa0d5-a050-4443-9a80-1403bcad6839</td>\n",
       "    </tr>\n",
       "    <tr>\n",
       "      <th>997</th>\n",
       "      <td>2024-09-10 04:45:04</td>\n",
       "      <td>e0fe3e65-8aa6-4f38-bb83-85948d5539bc</td>\n",
       "      <td>https://s3.ritm.media/yappy-db-duplicates/e0fe...</td>\n",
       "      <td>False</td>\n",
       "      <td>None</td>\n",
       "    </tr>\n",
       "    <tr>\n",
       "      <th>998</th>\n",
       "      <td>2024-09-11 04:42:01</td>\n",
       "      <td>ef7e175e-2391-45a0-b69f-33837668bb79</td>\n",
       "      <td>https://s3.ritm.media/yappy-db-duplicates/ef7e...</td>\n",
       "      <td>True</td>\n",
       "      <td>0574335c-9884-40de-a514-97b3fd3d72df</td>\n",
       "    </tr>\n",
       "    <tr>\n",
       "      <th>999</th>\n",
       "      <td>2024-09-12 22:21:33</td>\n",
       "      <td>7ed53812-357f-4ad4-bccc-39bb63e27ccb</td>\n",
       "      <td>https://s3.ritm.media/yappy-db-duplicates/7ed5...</td>\n",
       "      <td>False</td>\n",
       "      <td>None</td>\n",
       "    </tr>\n",
       "  </tbody>\n",
       "</table>\n",
       "<p>1000 rows × 5 columns</p>\n",
       "</div>"
      ],
      "text/plain": [
       "                 created  ...                         duplicate_for\n",
       "0    2024-06-01 01:37:57  ...                                  None\n",
       "1    2024-06-01 04:42:10  ...                                  None\n",
       "2    2024-06-01 08:44:48  ...                                  None\n",
       "3    2024-06-01 10:11:48  ...                                  None\n",
       "4    2024-06-01 12:23:29  ...                                  None\n",
       "..                   ...  ...                                   ...\n",
       "995  2024-09-07 17:10:54  ...  06e0d485-d4e1-4ba7-8eb2-e2f1fcfca416\n",
       "996  2024-09-08 05:18:24  ...  56cfa0d5-a050-4443-9a80-1403bcad6839\n",
       "997  2024-09-10 04:45:04  ...                                  None\n",
       "998  2024-09-11 04:42:01  ...  0574335c-9884-40de-a514-97b3fd3d72df\n",
       "999  2024-09-12 22:21:33  ...                                  None\n",
       "\n",
       "[1000 rows x 5 columns]"
      ]
     },
     "execution_count": 47,
     "metadata": {},
     "output_type": "execute_result"
    }
   ],
   "source": [
    "data"
   ]
  },
  {
   "cell_type": "code",
   "execution_count": 29,
   "metadata": {},
   "outputs": [],
   "source": [
    "data.to_csv('submission_8frames_0.7v_0.1a.csv', index=False)"
   ]
  }
 ],
 "metadata": {
  "kernelspec": {
   "display_name": "Python 3",
   "language": "python",
   "name": "python3"
  },
  "language_info": {
   "codemirror_mode": {
    "name": "ipython",
    "version": 3
   },
   "file_extension": ".py",
   "mimetype": "text/x-python",
   "name": "python",
   "nbconvert_exporter": "python",
   "pygments_lexer": "ipython3",
   "version": "3.11.9"
  },
  "orig_nbformat": 4
 },
 "nbformat": 4,
 "nbformat_minor": 2
}
